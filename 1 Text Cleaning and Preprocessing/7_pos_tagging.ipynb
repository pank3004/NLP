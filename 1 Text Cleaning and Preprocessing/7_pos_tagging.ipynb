{
 "cells": [
  {
   "cell_type": "markdown",
   "metadata": {},
   "source": [
    "### 💡 What is POS Tagging?\n",
    "Part-of-Speech (POS) tagging is the process of assigning a part of speech (like noun, verb, adjective, etc.) to each word in a sentence, based on its definition and context."
   ]
  },
  {
   "cell_type": "markdown",
   "metadata": {},
   "source": [
    "#### 🧠 Why Is It Important?\n",
    "POS tagging helps machines understand grammar and meaning. It's used in:\n",
    "\n",
    "Named Entity Recognition\n",
    "\n",
    "Syntactic parsing\n",
    "\n",
    "Question answering\n",
    "\n",
    "Chatbots\n",
    "\n",
    "Text summarization"
   ]
  },
  {
   "cell_type": "markdown",
   "metadata": {},
   "source": [
    "### 🏷️ Common POS Tags (Simplified)\n",
    "Tag\tMeaning\tExample\n",
    "\n",
    "NN\tNoun (Singular)\t    ---------------dog, apple\n",
    "\n",
    "NNS\tNoun (Plural)\t    ---------------cars, books\n",
    "\n",
    "VB\tVerb (Base form)\t---------------eat, go\n",
    "\n",
    "VBD\tVerb (Past)\t        ---------------ate, went\n",
    "\n",
    "VBG\tVerb (Gerund)   \t---------------eating, going\n",
    "\n",
    "JJ\tAdjective\t        ---------------happy, quick\n",
    "\n",
    "RB\tAdverb\t            ---------------quickly, very\n",
    "\n",
    "DT\tDeterminer      \t---------------the, a\n",
    "\n",
    "IN\tPreposition\t       ----------------in, over\n",
    "\n",
    "PRP\tPronoun\t            ---------------he, she"
   ]
  },
  {
   "cell_type": "code",
   "execution_count": 34,
   "metadata": {},
   "outputs": [
    {
     "name": "stderr",
     "output_type": "stream",
     "text": [
      "[nltk_data] Downloading package averaged_perceptron_tagger to\n",
      "[nltk_data]     C:\\Users\\91830\\AppData\\Roaming\\nltk_data...\n",
      "[nltk_data]   Package averaged_perceptron_tagger is already up-to-\n",
      "[nltk_data]       date!\n"
     ]
    },
    {
     "data": {
      "text/plain": [
       "True"
      ]
     },
     "execution_count": 34,
     "metadata": {},
     "output_type": "execute_result"
    }
   ],
   "source": [
    "import nltk\n",
    "nltk.download('averaged_perceptron_tagger')"
   ]
  },
  {
   "cell_type": "code",
   "execution_count": 35,
   "metadata": {},
   "outputs": [],
   "source": [
    "para=\"\"\"John loves playing football on weekends.\n",
    " He usually goes to the park with his friends.\n",
    " They bring snacks, laugh a lot, and enjoy the sunny weather.\n",
    " Sometimes, they even stay until sunset and talk about school and hobbies.\"\"\""
   ]
  },
  {
   "cell_type": "code",
   "execution_count": 36,
   "metadata": {},
   "outputs": [
    {
     "name": "stderr",
     "output_type": "stream",
     "text": [
      "[nltk_data] Downloading package averaged_perceptron_tagger_eng to\n",
      "[nltk_data]     C:\\Users\\91830\\AppData\\Roaming\\nltk_data...\n",
      "[nltk_data]   Package averaged_perceptron_tagger_eng is already up-to-\n",
      "[nltk_data]       date!\n"
     ]
    },
    {
     "data": {
      "text/plain": [
       "True"
      ]
     },
     "execution_count": 36,
     "metadata": {},
     "output_type": "execute_result"
    }
   ],
   "source": [
    "nltk.download('averaged_perceptron_tagger_eng')\n"
   ]
  },
  {
   "cell_type": "code",
   "execution_count": 37,
   "metadata": {},
   "outputs": [
    {
     "data": {
      "text/plain": [
       "[('i', 'NN'),\n",
       " ('am', 'VBP'),\n",
       " ('going', 'VBG'),\n",
       " ('to', 'TO'),\n",
       " ('learn', 'VB'),\n",
       " ('nlp', 'NN'),\n",
       " ('in', 'IN'),\n",
       " ('data', 'NNS'),\n",
       " ('science', 'NN')]"
      ]
     },
     "execution_count": 37,
     "metadata": {},
     "output_type": "execute_result"
    }
   ],
   "source": [
    "nltk.pos_tag('i am going to learn nlp in data science'.split())"
   ]
  },
  {
   "cell_type": "code",
   "execution_count": 38,
   "metadata": {},
   "outputs": [],
   "source": [
    "from nltk.tokenize import word_tokenize, sent_tokenize\n",
    "from nltk.corpus import stopwords\n",
    "from nltk import pos_tag"
   ]
  },
  {
   "cell_type": "code",
   "execution_count": 39,
   "metadata": {},
   "outputs": [],
   "source": [
    "sentences=sent_tokenize(para)"
   ]
  },
  {
   "cell_type": "code",
   "execution_count": 40,
   "metadata": {},
   "outputs": [
    {
     "data": {
      "text/plain": [
       "['John loves playing football on weekends.',\n",
       " 'He usually goes to the park with his friends.',\n",
       " 'They bring snacks, laugh a lot, and enjoy the sunny weather.',\n",
       " 'Sometimes, they even stay until sunset and talk about school and hobbies.']"
      ]
     },
     "execution_count": 40,
     "metadata": {},
     "output_type": "execute_result"
    }
   ],
   "source": [
    "sentences"
   ]
  },
  {
   "cell_type": "code",
   "execution_count": 41,
   "metadata": {},
   "outputs": [
    {
     "name": "stdout",
     "output_type": "stream",
     "text": [
      "[('John', 'NNP'), ('loves', 'VBZ'), ('playing', 'VBG'), ('football', 'NN'), ('weekends', 'NNS'), ('.', '.')]\n",
      "[('He', 'PRP'), ('usually', 'RB'), ('goes', 'VBZ'), ('park', 'JJ'), ('friends', 'NNS'), ('.', '.')]\n",
      "[('They', 'PRP'), ('bring', 'VBP'), ('snacks', 'NNS'), (',', ','), ('laugh', 'NN'), ('lot', 'NN'), (',', ','), ('enjoy', 'VB'), ('sunny', 'JJ'), ('weather', 'NN'), ('.', '.')]\n",
      "[('Sometimes', 'RB'), (',', ','), ('even', 'RB'), ('stay', 'VBP'), ('sunset', 'JJ'), ('talk', 'NN'), ('school', 'NN'), ('hobbies', 'NNS'), ('.', '.')]\n"
     ]
    }
   ],
   "source": [
    "for i in range(len(sentences)): \n",
    "    words=word_tokenize(sentences[i])\n",
    "    words=[word for word in words if word not in set(stopwords.words('english'))]\n",
    "    print(pos_tag(words))"
   ]
  },
  {
   "cell_type": "code",
   "execution_count": null,
   "metadata": {},
   "outputs": [],
   "source": []
  }
 ],
 "metadata": {
  "kernelspec": {
   "display_name": "Python 3",
   "language": "python",
   "name": "python3"
  },
  "language_info": {
   "codemirror_mode": {
    "name": "ipython",
    "version": 3
   },
   "file_extension": ".py",
   "mimetype": "text/x-python",
   "name": "python",
   "nbconvert_exporter": "python",
   "pygments_lexer": "ipython3",
   "version": "3.11.9"
  }
 },
 "nbformat": 4,
 "nbformat_minor": 2
}
