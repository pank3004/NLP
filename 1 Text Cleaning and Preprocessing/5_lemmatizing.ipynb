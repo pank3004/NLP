{
 "cells": [
  {
   "cell_type": "markdown",
   "metadata": {},
   "source": [
    "## Wordnet Lemmatizer\n",
    "Lemmatization technique is like stemming. The output we will get after lemmatization is called ‘lemma’, which is a root word rather than root stem, the output of stemming. After lemmatization, we will be getting a valid word that means the same thing.\n",
    "\n",
    "NLTK provides WordNetLemmatizer class which is a thin wrapper around the wordnet corpus. This class uses morphy() function to the WordNet CorpusReader class to find a lemma. Let us understand it with an example −\n"
   ]
  },
  {
   "cell_type": "code",
   "execution_count": 3,
   "metadata": {},
   "outputs": [],
   "source": [
    "import nltk\n",
    "from nltk.stem import WordNetLemmatizer"
   ]
  },
  {
   "cell_type": "code",
   "execution_count": 4,
   "metadata": {},
   "outputs": [],
   "source": [
    "lemmatizer=WordNetLemmatizer()"
   ]
  },
  {
   "cell_type": "code",
   "execution_count": 5,
   "metadata": {},
   "outputs": [],
   "source": [
    "words=[\"eating\",\"eats\",\"eaten\",\"writing\",\"writes\",\"programming\",\"programs\",\"history\",\"finally\",\"finalized\"]"
   ]
  },
  {
   "cell_type": "code",
   "execution_count": 6,
   "metadata": {},
   "outputs": [
    {
     "name": "stdout",
     "output_type": "stream",
     "text": [
      "eating------->eating\n",
      "eats------->eats\n",
      "eaten------->eaten\n",
      "writing------->writing\n",
      "writes------->writes\n",
      "programming------->programming\n",
      "programs------->program\n",
      "history------->history\n",
      "finally------->finally\n",
      "finalized------->finalized\n"
     ]
    }
   ],
   "source": [
    "for word in words: \n",
    "    print(word+\"------->\"+lemmatizer.lemmatize(word))"
   ]
  },
  {
   "cell_type": "code",
   "execution_count": 7,
   "metadata": {},
   "outputs": [
    {
     "data": {
      "text/plain": [
       "'going'"
      ]
     },
     "execution_count": 7,
     "metadata": {},
     "output_type": "execute_result"
    }
   ],
   "source": [
    "lemmatizer.lemmatize('going')"
   ]
  },
  {
   "cell_type": "code",
   "execution_count": 9,
   "metadata": {},
   "outputs": [
    {
     "data": {
      "text/plain": [
       "'go'"
      ]
     },
     "execution_count": 9,
     "metadata": {},
     "output_type": "execute_result"
    }
   ],
   "source": [
    "'''\n",
    "POS- Noun-n\n",
    "verb-v\n",
    "adjective-a\n",
    "adverb-r\n",
    "'''\n",
    "\n",
    "lemmatizer.lemmatize('going', pos='v')"
   ]
  },
  {
   "cell_type": "code",
   "execution_count": 10,
   "metadata": {},
   "outputs": [
    {
     "data": {
      "text/plain": [
       "'going'"
      ]
     },
     "execution_count": 10,
     "metadata": {},
     "output_type": "execute_result"
    }
   ],
   "source": [
    "lemmatizer.lemmatize('going', pos='n')"
   ]
  },
  {
   "cell_type": "code",
   "execution_count": null,
   "metadata": {},
   "outputs": [
    {
     "data": {
      "text/plain": [
       "'strongly'"
      ]
     },
     "execution_count": 17,
     "metadata": {},
     "output_type": "execute_result"
    }
   ],
   "source": [
    "lemmatizer.lemmatize('fairly', pos='v')\n"
   ]
  },
  {
   "cell_type": "code",
   "execution_count": 18,
   "metadata": {},
   "outputs": [
    {
     "data": {
      "text/plain": [
       "'strongly'"
      ]
     },
     "execution_count": 18,
     "metadata": {},
     "output_type": "execute_result"
    }
   ],
   "source": [
    "lemmatizer.lemmatize('strongly', pos='n')"
   ]
  },
  {
   "cell_type": "markdown",
   "metadata": {},
   "source": [
    "1. Stemming\n",
    "🔹 Definition: Stemming is a rule-based process that removes suffixes from words to reach the root form, often without considering whether the resulting word is valid in the language.\n",
    "\n",
    "🔹 Method: It applies simple heuristics (e.g., chopping off \"ing\", \"ed\", \"s\", etc.) without understanding the meaning of the word.\n",
    "\n",
    "🔹 Fast but less accurate: Since it follows fixed rules, it sometimes produces incorrect words that do not exist in the dictionary.\n",
    "\n",
    "🔹 Example using PorterStemmer (NLTK):"
   ]
  },
  {
   "cell_type": "code",
   "execution_count": 20,
   "metadata": {},
   "outputs": [
    {
     "name": "stdout",
     "output_type": "stream",
     "text": [
      "['run', 'fli', 'happili', 'better', 'studi']\n"
     ]
    }
   ],
   "source": [
    "from nltk.stem import PorterStemmer\n",
    "\n",
    "stemmer = PorterStemmer()\n",
    "\n",
    "words = [\"running\", \"flies\", \"happily\", \"better\", \"studies\"]\n",
    "stems = [stemmer.stem(word) for word in words]\n",
    "\n",
    "print(stems)  # Output: ['run', 'fli', 'happili', 'better', 'studi']\n"
   ]
  },
  {
   "cell_type": "markdown",
   "metadata": {},
   "source": [
    "🔹 Issues with stemming:\n",
    "\n",
    "\"flies\" → \"fli\" (incorrect)\n",
    "\n",
    "\"happily\" → \"happili\" (incorrect)\n",
    "\n",
    "\"studies\" → \"studi\" (not a proper word)"
   ]
  },
  {
   "cell_type": "markdown",
   "metadata": {},
   "source": [
    "2. Lemmatization\n",
    "🔹 Definition: Lemmatization reduces a word to its dictionary root form (lemma) by considering the word’s part of speech (POS) and meaning.\n",
    "\n",
    "🔹 Method: It uses a language dictionary to find the correct root form.\n",
    "\n",
    "🔹 Slower but more accurate: Unlike stemming, it ensures the output word is a valid word in the language.\n",
    "\n",
    "🔹 Example using WordNetLemmatizer (NLTK):"
   ]
  },
  {
   "cell_type": "code",
   "execution_count": 21,
   "metadata": {},
   "outputs": [
    {
     "name": "stdout",
     "output_type": "stream",
     "text": [
      "['run', 'fly', 'happily', 'better', 'study']\n"
     ]
    }
   ],
   "source": [
    "from nltk.stem import WordNetLemmatizer\n",
    "\n",
    "lemmatizer = WordNetLemmatizer()\n",
    "\n",
    "words = [\"running\", \"flies\", \"happily\", \"better\", \"studies\"]\n",
    "lemmas = [lemmatizer.lemmatize(word, pos=\"v\") for word in words]  # 'v' for verb\n",
    "\n",
    "print(lemmas)  # Output: ['run', 'fly', 'happily', 'be', 'study']\n"
   ]
  },
  {
   "cell_type": "markdown",
   "metadata": {},
   "source": [
    "🔹 Why is lemmatization better?\n",
    "\n",
    "\"flies\" → \"fly\" ✅ (correct word)\n",
    "\n",
    "\"happily\" → \"happily\" ✅ (remains unchanged since it's an adverb)\n",
    "\n",
    "\"studies\" → \"study\" ✅ (correct word)\n",
    "\n",
    "\"better\" → \"be\" (context-dependent)"
   ]
  },
  {
   "cell_type": "code",
   "execution_count": null,
   "metadata": {},
   "outputs": [],
   "source": [
    "# 💡 Use stemming when you need fast, simple word reduction.\n",
    "# 💡 Use lemmatization when accuracy and meaning matter."
   ]
  }
 ],
 "metadata": {
  "kernelspec": {
   "display_name": "Python 3",
   "language": "python",
   "name": "python3"
  },
  "language_info": {
   "codemirror_mode": {
    "name": "ipython",
    "version": 3
   },
   "file_extension": ".py",
   "mimetype": "text/x-python",
   "name": "python",
   "nbconvert_exporter": "python",
   "pygments_lexer": "ipython3",
   "version": "3.11.9"
  }
 },
 "nbformat": 4,
 "nbformat_minor": 2
}
