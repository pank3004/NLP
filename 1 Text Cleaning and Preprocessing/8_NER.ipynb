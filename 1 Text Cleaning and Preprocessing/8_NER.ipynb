{
 "cells": [
  {
   "cell_type": "markdown",
   "id": "da10d130",
   "metadata": {},
   "source": [
    "🧠 NER (Named Entity Recognition)\n",
    "What:\n",
    "NER is a task in NLP where the goal is to identify and classify entities (important words) in a sentence into predefined categories like:\n",
    "\n",
    "👨‍💼 Person\n",
    "\n",
    "🏢 Organization\n",
    "\n",
    "📍 Location\n",
    "\n",
    "📅 Date\n",
    "\n",
    "💰 Money, etc.\n",
    "\n",
    "✅ Example:\n",
    "“Pankaj works at Google in India.”\n",
    "\n",
    "NER would extract:\n",
    "\n",
    "Pankaj → Person\n",
    "\n",
    "Google → Organization\n",
    "\n",
    "India → Location"
   ]
  },
  {
   "cell_type": "code",
   "execution_count": 12,
   "id": "99a83407",
   "metadata": {},
   "outputs": [],
   "source": [
    "sentence=\"The Eiffel Tower was built from 1887 to 1889 by Gustave Eiffel, whose company specialized in building metal frameworks and structures.\""
   ]
  },
  {
   "cell_type": "code",
   "execution_count": 13,
   "id": "cda68936",
   "metadata": {},
   "outputs": [],
   "source": [
    "import nltk\n",
    "from nltk.tokenize import sent_tokenize, word_tokenize\n",
    "from nltk import pos_tag"
   ]
  },
  {
   "cell_type": "code",
   "execution_count": 14,
   "id": "370b4389",
   "metadata": {},
   "outputs": [],
   "source": [
    "words=word_tokenize(sentence)\n",
    "tag_element=nltk.pos_tag(words)"
   ]
  },
  {
   "cell_type": "code",
   "execution_count": 15,
   "id": "03bb5e25",
   "metadata": {},
   "outputs": [
    {
     "data": {
      "text/plain": [
       "[('The', 'DT'),\n",
       " ('Eiffel', 'NNP'),\n",
       " ('Tower', 'NNP'),\n",
       " ('was', 'VBD'),\n",
       " ('built', 'VBN'),\n",
       " ('from', 'IN'),\n",
       " ('1887', 'CD'),\n",
       " ('to', 'TO'),\n",
       " ('1889', 'CD'),\n",
       " ('by', 'IN'),\n",
       " ('Gustave', 'NNP'),\n",
       " ('Eiffel', 'NNP'),\n",
       " (',', ','),\n",
       " ('whose', 'WP$'),\n",
       " ('company', 'NN'),\n",
       " ('specialized', 'VBD'),\n",
       " ('in', 'IN'),\n",
       " ('building', 'NN'),\n",
       " ('metal', 'NN'),\n",
       " ('frameworks', 'NNS'),\n",
       " ('and', 'CC'),\n",
       " ('structures', 'NNS'),\n",
       " ('.', '.')]"
      ]
     },
     "execution_count": 15,
     "metadata": {},
     "output_type": "execute_result"
    }
   ],
   "source": [
    "tag_element"
   ]
  },
  {
   "cell_type": "code",
   "execution_count": 16,
   "id": "8e75522a",
   "metadata": {},
   "outputs": [
    {
     "name": "stderr",
     "output_type": "stream",
     "text": [
      "[nltk_data] Downloading package maxent_ne_chunker_tab to\n",
      "[nltk_data]     C:\\Users\\91830\\AppData\\Roaming\\nltk_data...\n",
      "[nltk_data]   Package maxent_ne_chunker_tab is already up-to-date!\n"
     ]
    },
    {
     "data": {
      "text/plain": [
       "True"
      ]
     },
     "execution_count": 16,
     "metadata": {},
     "output_type": "execute_result"
    }
   ],
   "source": [
    "nltk.download('maxent_ne_chunker_tab')\n"
   ]
  },
  {
   "cell_type": "code",
   "execution_count": 17,
   "id": "aed3eb1c",
   "metadata": {},
   "outputs": [
    {
     "name": "stderr",
     "output_type": "stream",
     "text": [
      "[nltk_data] Downloading package words to\n",
      "[nltk_data]     C:\\Users\\91830\\AppData\\Roaming\\nltk_data...\n",
      "[nltk_data]   Package words is already up-to-date!\n"
     ]
    },
    {
     "data": {
      "text/plain": [
       "True"
      ]
     },
     "execution_count": 17,
     "metadata": {},
     "output_type": "execute_result"
    }
   ],
   "source": [
    "nltk.download('words')"
   ]
  },
  {
   "cell_type": "code",
   "execution_count": 20,
   "id": "8251bbe4",
   "metadata": {},
   "outputs": [],
   "source": [
    "nltk.ne_chunk(tag_element).draw()"
   ]
  },
  {
   "cell_type": "code",
   "execution_count": 23,
   "id": "059e9004",
   "metadata": {},
   "outputs": [],
   "source": [
    "text=\"Virat Kohli was born on November 5, 1988, in Delhi and plays cricket for India.\"\n",
    "nltk.ne_chunk(pos_tag(word_tokenize(text))).draw()"
   ]
  },
  {
   "cell_type": "code",
   "execution_count": 27,
   "id": "5cc16bb9",
   "metadata": {},
   "outputs": [],
   "source": [
    "text1=\"Elon Musk, the CEO of Tesla, was born in South Africa on June 28, 1971. He donated $5 million to XPrize Foundation in 2021.\"\n",
    "nltk.ne_chunk(pos_tag(word_tokenize(text1))).draw()"
   ]
  },
  {
   "cell_type": "code",
   "execution_count": 26,
   "id": "ba746808",
   "metadata": {},
   "outputs": [],
   "source": [
    "# 🔖 Common NER Labels (with meaning):\n",
    "\n",
    "# Label\tMeaning\tExample\n",
    "# PERSON\tNamed person or fictional character\tElon Musk, Virat Kohli\n",
    "# ORG\tOrganization\tGoogle, Tesla, XPrize Foundation\n",
    "# GPE\tGeopolitical Entity (countries, cities)\tIndia, New York, South Africa\n",
    "# LOC\tNon-GPE location (mountains, rivers)\tMount Everest, Amazon River\n",
    "# DATE\tAbsolute or relative dates\tJune 28, 1971, last week\n",
    "# TIME\tSpecific times\t2:00 PM, midnight\n",
    "# MONEY\tMonetary values\t$5 million, ₹500\n",
    "# PERCENT\tPercentages\t90%, 5 percent\n",
    "# NORP\tNationalities, religious or political\tIndian, Muslim, Democrat\n",
    "# FAC\tFacilities (buildings, airports, etc.)\tDelhi Airport, Eiffel Tower\n",
    "# PRODUCT\tProducts\tiPhone, Ford Mustang\n",
    "# EVENT\tNamed events\tOlympics, World War II\n",
    "# LAW\tNamed legal documents\tIndian Penal Code, GDPR\n",
    "# LANGUAGE\tLanguages\tEnglish, Hindi, Spanish\n",
    "# WORK_OF_ART\tTitles of books, songs, etc.\tAvengers, Ramayana, \"Bohemian Rhapsody\"\n",
    "# QUANTITY\tMeasurement values\t10 kg, 2 liters\n",
    "# ORDINAL\tFirst, second, etc.\t1st, 2nd\n",
    "# CARDINAL\tNumerical values\tOne, 1000, Ten million"
   ]
  },
  {
   "cell_type": "code",
   "execution_count": null,
   "id": "700759ab",
   "metadata": {},
   "outputs": [],
   "source": []
  }
 ],
 "metadata": {
  "kernelspec": {
   "display_name": "Python 3",
   "language": "python",
   "name": "python3"
  },
  "language_info": {
   "codemirror_mode": {
    "name": "ipython",
    "version": 3
   },
   "file_extension": ".py",
   "mimetype": "text/x-python",
   "name": "python",
   "nbconvert_exporter": "python",
   "pygments_lexer": "ipython3",
   "version": "3.11.9"
  }
 },
 "nbformat": 4,
 "nbformat_minor": 5
}
