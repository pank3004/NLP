{
 "cells": [
  {
   "cell_type": "code",
   "execution_count": 11,
   "metadata": {},
   "outputs": [
    {
     "name": "stderr",
     "output_type": "stream",
     "text": [
      "[nltk_data] Downloading package punkt to\n",
      "[nltk_data]     C:\\Users\\91830\\AppData\\Roaming\\nltk_data...\n",
      "[nltk_data]   Package punkt is already up-to-date!\n"
     ]
    },
    {
     "data": {
      "text/plain": [
       "True"
      ]
     },
     "execution_count": 11,
     "metadata": {},
     "output_type": "execute_result"
    }
   ],
   "source": [
    "import nltk\n",
    "nltk.download('punkt')"
   ]
  },
  {
   "cell_type": "code",
   "execution_count": 69,
   "metadata": {},
   "outputs": [],
   "source": [
    "corpus1 = [\n",
    "    \"I love machine learning!\",\n",
    "    \"Natural Language Processing is fun.\",\n",
    "    \"Tokenization splits text into smaller units.\"\n",
    "]\n",
    "\n",
    "corpus2=\"\"\"\n",
    "Practice Daily: Apply  to datasets (e.g., Kaggle, public datasets).\n",
    "\n",
    "Join Communities: Participate in forums or LinkedIn groups.\n",
    "\n",
    "Get Certified: Certifications your skills? is't.\n",
    "\"\"\""
   ]
  },
  {
   "cell_type": "markdown",
   "metadata": {},
   "source": [
    "#### 1 Sentence Tokenization"
   ]
  },
  {
   "cell_type": "code",
   "execution_count": 70,
   "metadata": {},
   "outputs": [],
   "source": [
    "from nltk.tokenize import sent_tokenize"
   ]
  },
  {
   "cell_type": "code",
   "execution_count": 71,
   "metadata": {},
   "outputs": [
    {
     "data": {
      "text/plain": [
       "['\\nPractice Daily: Apply  to datasets (e.g., Kaggle, public datasets).',\n",
       " 'Join Communities: Participate in forums or LinkedIn groups.',\n",
       " 'Get Certified: Certifications your skills?',\n",
       " \"is't.\"]"
      ]
     },
     "execution_count": 71,
     "metadata": {},
     "output_type": "execute_result"
    }
   ],
   "source": [
    "sent_tokenize(corpus2)"
   ]
  },
  {
   "cell_type": "code",
   "execution_count": 72,
   "metadata": {},
   "outputs": [
    {
     "data": {
      "text/plain": [
       "list"
      ]
     },
     "execution_count": 72,
     "metadata": {},
     "output_type": "execute_result"
    }
   ],
   "source": [
    "type(sent_tokenize(corpus2))"
   ]
  },
  {
   "cell_type": "code",
   "execution_count": 73,
   "metadata": {},
   "outputs": [
    {
     "data": {
      "text/plain": [
       "4"
      ]
     },
     "execution_count": 73,
     "metadata": {},
     "output_type": "execute_result"
    }
   ],
   "source": [
    "len(sent_tokenize(corpus2))"
   ]
  },
  {
   "cell_type": "code",
   "execution_count": 74,
   "metadata": {},
   "outputs": [
    {
     "name": "stdout",
     "output_type": "stream",
     "text": [
      "I love machine learning! Natural Language Processing is fun. Tokenization splits text into smaller units.\n",
      "['I love machine learning!', 'Natural Language Processing is fun.', 'Tokenization splits text into smaller units.']\n",
      "<class 'list'>\n"
     ]
    },
    {
     "data": {
      "text/plain": [
       "3"
      ]
     },
     "execution_count": 74,
     "metadata": {},
     "output_type": "execute_result"
    }
   ],
   "source": [
    "# sent_tokenize(corpus1)   # give errrorr because it expect a single strinng\n",
    "docs=\" \".join(corpus1)\n",
    "print(docs)\n",
    "type(docs)\n",
    "sentences=sent_tokenize(docs)\n",
    "print(sentences)\n",
    "print(type(sentences))\n",
    "len(sentences)"
   ]
  },
  {
   "cell_type": "markdown",
   "metadata": {},
   "source": [
    "#### 2 Word Tokenization"
   ]
  },
  {
   "cell_type": "code",
   "execution_count": 75,
   "metadata": {},
   "outputs": [],
   "source": [
    "from nltk import word_tokenize"
   ]
  },
  {
   "cell_type": "code",
   "execution_count": 76,
   "metadata": {},
   "outputs": [],
   "source": [
    "word_tok=word_tokenize(corpus2)"
   ]
  },
  {
   "cell_type": "code",
   "execution_count": 77,
   "metadata": {},
   "outputs": [
    {
     "data": {
      "text/plain": [
       "['Practice',\n",
       " 'Daily',\n",
       " ':',\n",
       " 'Apply',\n",
       " 'to',\n",
       " 'datasets',\n",
       " '(',\n",
       " 'e.g.',\n",
       " ',',\n",
       " 'Kaggle',\n",
       " ',',\n",
       " 'public',\n",
       " 'datasets',\n",
       " ')',\n",
       " '.',\n",
       " 'Join',\n",
       " 'Communities',\n",
       " ':',\n",
       " 'Participate',\n",
       " 'in',\n",
       " 'forums',\n",
       " 'or',\n",
       " 'LinkedIn',\n",
       " 'groups',\n",
       " '.',\n",
       " 'Get',\n",
       " 'Certified',\n",
       " ':',\n",
       " 'Certifications',\n",
       " 'your',\n",
       " 'skills',\n",
       " '?',\n",
       " \"is't\",\n",
       " '.']"
      ]
     },
     "execution_count": 77,
     "metadata": {},
     "output_type": "execute_result"
    }
   ],
   "source": [
    "word_tok"
   ]
  },
  {
   "cell_type": "code",
   "execution_count": 78,
   "metadata": {},
   "outputs": [
    {
     "data": {
      "text/plain": [
       "['Practice',\n",
       " 'Daily',\n",
       " ':',\n",
       " 'Apply',\n",
       " 'to',\n",
       " 'datasets',\n",
       " '(',\n",
       " 'e.g.',\n",
       " ',',\n",
       " 'Kaggle',\n",
       " ',',\n",
       " 'public',\n",
       " 'datasets',\n",
       " ')',\n",
       " '.',\n",
       " 'Join',\n",
       " 'Communities',\n",
       " ':',\n",
       " 'Participate',\n",
       " 'in',\n",
       " 'forums',\n",
       " 'or',\n",
       " 'LinkedIn',\n",
       " 'groups',\n",
       " '.',\n",
       " 'Get',\n",
       " 'Certified',\n",
       " ':',\n",
       " 'Certifications',\n",
       " 'your',\n",
       " 'skills',\n",
       " '?',\n",
       " \"is't\",\n",
       " '.']"
      ]
     },
     "execution_count": 78,
     "metadata": {},
     "output_type": "execute_result"
    }
   ],
   "source": [
    "word_tokenize(\" \".join(sent_tokenize(corpus2)))"
   ]
  },
  {
   "cell_type": "code",
   "execution_count": 79,
   "metadata": {},
   "outputs": [
    {
     "data": {
      "text/plain": [
       "['Practice',\n",
       " 'Daily',\n",
       " ':',\n",
       " 'Apply',\n",
       " 'to',\n",
       " 'datasets',\n",
       " '(',\n",
       " 'e',\n",
       " '.',\n",
       " 'g',\n",
       " '.,',\n",
       " 'Kaggle',\n",
       " ',',\n",
       " 'public',\n",
       " 'datasets',\n",
       " ').',\n",
       " 'Join',\n",
       " 'Communities',\n",
       " ':',\n",
       " 'Participate',\n",
       " 'in',\n",
       " 'forums',\n",
       " 'or',\n",
       " 'LinkedIn',\n",
       " 'groups',\n",
       " '.',\n",
       " 'Get',\n",
       " 'Certified',\n",
       " ':',\n",
       " 'Certifications',\n",
       " 'your',\n",
       " 'skills',\n",
       " '?',\n",
       " 'is',\n",
       " \"'\",\n",
       " 't',\n",
       " '.']"
      ]
     },
     "execution_count": 79,
     "metadata": {},
     "output_type": "execute_result"
    }
   ],
   "source": [
    "from nltk.tokenize import wordpunct_tokenize\n",
    "\n",
    "wordpunct_tokenize(corpus2)"
   ]
  },
  {
   "cell_type": "code",
   "execution_count": 80,
   "metadata": {},
   "outputs": [
    {
     "data": {
      "text/plain": [
       "34"
      ]
     },
     "execution_count": 80,
     "metadata": {},
     "output_type": "execute_result"
    }
   ],
   "source": [
    "len(word_tokenize(corpus2))"
   ]
  },
  {
   "cell_type": "code",
   "execution_count": 81,
   "metadata": {},
   "outputs": [
    {
     "data": {
      "text/plain": [
       "37"
      ]
     },
     "execution_count": 81,
     "metadata": {},
     "output_type": "execute_result"
    }
   ],
   "source": [
    "len(wordpunct_tokenize(corpus2))"
   ]
  },
  {
   "cell_type": "code",
   "execution_count": 67,
   "metadata": {},
   "outputs": [
    {
     "name": "stdout",
     "output_type": "stream",
     "text": [
      "word_tokenize: ['Hello', 'there', '!', 'How', \"'s\", 'everything', 'going', '?', 'NLP', 'is', 'fun', ',', 'is', \"n't\", 'it', '?']\n",
      "wordpunct_tokenize: ['Hello', 'there', '!', 'How', \"'\", 's', 'everything', 'going', '?', 'NLP', 'is', 'fun', ',', 'isn', \"'\", 't', 'it', '?']\n"
     ]
    }
   ],
   "source": [
    "\n",
    "text = \"Hello there! How's everything going? NLP is fun, isn't it?\"\n",
    "\n",
    "# Word tokenize\n",
    "print(\"word_tokenize:\", word_tokenize(text))\n",
    "\n",
    "# WordPunct tokenize\n",
    "print(\"wordpunct_tokenize:\", wordpunct_tokenize(text))  # treat punct as seprate tokens"
   ]
  },
  {
   "cell_type": "code",
   "execution_count": 68,
   "metadata": {},
   "outputs": [
    {
     "name": "stdout",
     "output_type": "stream",
     "text": [
      "word_tokenize: ['Hello', ',', 'Mr.', 'Smith', '!', 'How', \"'s\", 'it', 'going', '?']\n",
      "wordpunct_tokenize: ['Hello', ',', 'Mr', '.', 'Smith', '!', 'How', \"'\", 's', 'it', 'going', '?']\n"
     ]
    }
   ],
   "source": [
    "text = \"Hello, Mr. Smith! How's it going?\"\n",
    "print(\"word_tokenize:\", word_tokenize(text))\n",
    "\n",
    "# WordPunct tokenize\n",
    "print(\"wordpunct_tokenize:\", wordpunct_tokenize(text))"
   ]
  },
  {
   "cell_type": "code",
   "execution_count": null,
   "metadata": {},
   "outputs": [],
   "source": []
  },
  {
   "cell_type": "code",
   "execution_count": null,
   "metadata": {},
   "outputs": [],
   "source": []
  },
  {
   "cell_type": "code",
   "execution_count": null,
   "metadata": {},
   "outputs": [],
   "source": []
  },
  {
   "cell_type": "code",
   "execution_count": null,
   "metadata": {},
   "outputs": [],
   "source": []
  },
  {
   "cell_type": "code",
   "execution_count": null,
   "metadata": {},
   "outputs": [],
   "source": []
  },
  {
   "cell_type": "code",
   "execution_count": null,
   "metadata": {},
   "outputs": [],
   "source": []
  }
 ],
 "metadata": {
  "kernelspec": {
   "display_name": "Python 3",
   "language": "python",
   "name": "python3"
  },
  "language_info": {
   "codemirror_mode": {
    "name": "ipython",
    "version": 3
   },
   "file_extension": ".py",
   "mimetype": "text/x-python",
   "name": "python",
   "nbconvert_exporter": "python",
   "pygments_lexer": "ipython3",
   "version": "3.11.9"
  }
 },
 "nbformat": 4,
 "nbformat_minor": 2
}
