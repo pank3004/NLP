{
 "cells": [
  {
   "cell_type": "code",
   "execution_count": 2,
   "id": "811955b6",
   "metadata": {},
   "outputs": [
    {
     "name": "stderr",
     "output_type": "stream",
     "text": [
      "[nltk_data] Downloading package punkt to\n",
      "[nltk_data]     C:\\Users\\91830\\AppData\\Roaming\\nltk_data...\n",
      "[nltk_data]   Package punkt is already up-to-date!\n"
     ]
    }
   ],
   "source": [
    "import nltk\n",
    "nltk.download('punkt')\n",
    "from collections import Counter\n"
   ]
  },
  {
   "cell_type": "code",
   "execution_count": 4,
   "id": "f18d7e13",
   "metadata": {},
   "outputs": [],
   "source": [
    "sentences=['cat eats fish', 'dog eats fish', 'dog chases cat']"
   ]
  },
  {
   "cell_type": "code",
   "execution_count": 7,
   "id": "df21cc4f",
   "metadata": {},
   "outputs": [],
   "source": [
    "# steps 1 vocabulary: \n",
    "tokenized_sen=[nltk.word_tokenize(sentence.lower()) for sentence in sentences]\n",
    "all_word=[word for sentence in tokenized_sen for word in sentence]\n",
    "\n",
    "vocabulary=list(Counter(all_word).keys())"
   ]
  },
  {
   "cell_type": "code",
   "execution_count": 8,
   "id": "808ce959",
   "metadata": {},
   "outputs": [
    {
     "data": {
      "text/plain": [
       "[['cat', 'eats', 'fish'], ['dog', 'eats', 'fish'], ['dog', 'chases', 'cat']]"
      ]
     },
     "execution_count": 8,
     "metadata": {},
     "output_type": "execute_result"
    }
   ],
   "source": [
    "tokenized_sen"
   ]
  },
  {
   "cell_type": "code",
   "execution_count": 9,
   "id": "75a036e5",
   "metadata": {},
   "outputs": [
    {
     "data": {
      "text/plain": [
       "['cat', 'eats', 'fish', 'dog', 'eats', 'fish', 'dog', 'chases', 'cat']"
      ]
     },
     "execution_count": 9,
     "metadata": {},
     "output_type": "execute_result"
    }
   ],
   "source": [
    "all_word"
   ]
  },
  {
   "cell_type": "code",
   "execution_count": 10,
   "id": "03ab82d7",
   "metadata": {},
   "outputs": [
    {
     "data": {
      "text/plain": [
       "['cat', 'eats', 'fish', 'dog', 'chases']"
      ]
     },
     "execution_count": 10,
     "metadata": {},
     "output_type": "execute_result"
    }
   ],
   "source": [
    "vocabulary"
   ]
  },
  {
   "cell_type": "code",
   "execution_count": 14,
   "id": "b3bd5d2f",
   "metadata": {},
   "outputs": [
    {
     "name": "stdout",
     "output_type": "stream",
     "text": [
      "Vocabulary:  ['cat', 'eats', 'fish', 'dog', 'chases']\n",
      "sentence 1: \n",
      "cat: [1, 0, 0, 0, 0]\n",
      "eats: [0, 1, 0, 0, 0]\n",
      "fish: [0, 0, 1, 0, 0]\n",
      "sentence 2: \n",
      "dog: [0, 0, 0, 1, 0]\n",
      "eats: [0, 1, 0, 0, 0]\n",
      "fish: [0, 0, 1, 0, 0]\n",
      "sentence 3: \n",
      "dog: [0, 0, 0, 1, 0]\n",
      "chases: [0, 0, 0, 0, 1]\n",
      "cat: [1, 0, 0, 0, 0]\n"
     ]
    }
   ],
   "source": [
    "\n",
    "# step 2 create one hot encoding\n",
    "\n",
    "def one_hot_encode(word, vocabulary): \n",
    "    vector=[0]*len(vocabulary)\n",
    "    index=vocabulary.index(word)\n",
    "    vector[index]=1\n",
    "    return vector\n",
    "\n",
    "\n",
    "encoded_sentences=[]\n",
    "for sentence in tokenized_sen: \n",
    "    encoded_sentence=[one_hot_encode(word, vocabulary) for word in sentence]\n",
    "    encoded_sentences.append(encoded_sentence)\n",
    "\n",
    "\n",
    "print('Vocabulary: ', vocabulary)\n",
    "for i, sentence in enumerate(encoded_sentences): \n",
    "    print(f'sentence {i+1}: ')\n",
    "    for word, vector in zip(tokenized_sen[i], sentence): \n",
    "        print(f'{word}: {vector}')\n"
   ]
  },
  {
   "cell_type": "code",
   "execution_count": 15,
   "id": "66dec688",
   "metadata": {},
   "outputs": [
    {
     "name": "stdout",
     "output_type": "stream",
     "text": [
      "[('a', 1), ('b', 2), ('c', 3)]\n"
     ]
    }
   ],
   "source": [
    "a = ['a', 'b', 'c']\n",
    "b = [1, 2, 3]\n",
    "\n",
    "zipped = zip(a, b)\n",
    "print(list(zipped))"
   ]
  },
  {
   "cell_type": "code",
   "execution_count": null,
   "id": "0128c0cd",
   "metadata": {},
   "outputs": [],
   "source": []
  }
 ],
 "metadata": {
  "kernelspec": {
   "display_name": "Python 3",
   "language": "python",
   "name": "python3"
  },
  "language_info": {
   "codemirror_mode": {
    "name": "ipython",
    "version": 3
   },
   "file_extension": ".py",
   "mimetype": "text/x-python",
   "name": "python",
   "nbconvert_exporter": "python",
   "pygments_lexer": "ipython3",
   "version": "3.11.9"
  }
 },
 "nbformat": 4,
 "nbformat_minor": 5
}
